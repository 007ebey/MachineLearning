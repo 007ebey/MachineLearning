{
 "cells": [
  {
   "cell_type": "code",
   "execution_count": 1,
   "metadata": {},
   "outputs": [],
   "source": [
    "from sklearn.tree import DecisionTreeClassifier\n",
    "from sklearn import datasets\n",
    "import pandas as pd\n"
   ]
  },
  {
   "cell_type": "code",
   "execution_count": 2,
   "metadata": {},
   "outputs": [],
   "source": [
    "iris = datasets.load_iris()"
   ]
  },
  {
   "cell_type": "code",
   "execution_count": 3,
   "metadata": {},
   "outputs": [],
   "source": [
    "X = iris.data"
   ]
  },
  {
   "cell_type": "code",
   "execution_count": 4,
   "metadata": {},
   "outputs": [],
   "source": [
    "X = pd.DataFrame(X)"
   ]
  },
  {
   "cell_type": "code",
   "execution_count": 5,
   "metadata": {},
   "outputs": [],
   "source": [
    "y = pd.DataFrame(iris.target)  "
   ]
  },
  {
   "cell_type": "code",
   "execution_count": 6,
   "metadata": {},
   "outputs": [],
   "source": [
    "clf = DecisionTreeClassifier(max_depth = 1,random_state = 0)"
   ]
  },
  {
   "cell_type": "code",
   "execution_count": 7,
   "metadata": {},
   "outputs": [],
   "source": [
    "X.columns = ['A','B','C','D']"
   ]
  },
  {
   "cell_type": "code",
   "execution_count": 8,
   "metadata": {},
   "outputs": [],
   "source": [
    "X = pd.DataFrame(X['A'])"
   ]
  },
  {
   "cell_type": "code",
   "execution_count": 9,
   "metadata": {},
   "outputs": [
    {
     "data": {
      "text/plain": [
       "DecisionTreeClassifier(class_weight=None, criterion='gini', max_depth=1,\n",
       "            max_features=None, max_leaf_nodes=None,\n",
       "            min_impurity_decrease=0.0, min_impurity_split=None,\n",
       "            min_samples_leaf=1, min_samples_split=2,\n",
       "            min_weight_fraction_leaf=0.0, presort=False, random_state=0,\n",
       "            splitter='best')"
      ]
     },
     "execution_count": 9,
     "metadata": {},
     "output_type": "execute_result"
    }
   ],
   "source": [
    "clf.fit(X,y)"
   ]
  },
  {
   "cell_type": "code",
   "execution_count": 10,
   "metadata": {},
   "outputs": [],
   "source": [
    "tree = clf.tree_"
   ]
  },
  {
   "cell_type": "code",
   "execution_count": 11,
   "metadata": {},
   "outputs": [
    {
     "data": {
      "text/plain": [
       "array([[[50., 50., 50.]],\n",
       "\n",
       "       [[45.,  6.,  1.]],\n",
       "\n",
       "       [[ 5., 44., 49.]]])"
      ]
     },
     "execution_count": 11,
     "metadata": {},
     "output_type": "execute_result"
    }
   ],
   "source": [
    "tree.value"
   ]
  },
  {
   "cell_type": "code",
   "execution_count": 12,
   "metadata": {},
   "outputs": [],
   "source": [
    "for i in range(len(tree.value)):\n",
    "    a = tree.value[0]"
   ]
  },
  {
   "cell_type": "code",
   "execution_count": 13,
   "metadata": {},
   "outputs": [],
   "source": [
    "# Q[axis] := P[axis] + (Size(child[i])/Size(root))*width"
   ]
  },
  {
   "cell_type": "code",
   "execution_count": 14,
   "metadata": {},
   "outputs": [
    {
     "data": {
      "text/plain": [
       "[50.0, 50.0, 50.0]"
      ]
     },
     "execution_count": 14,
     "metadata": {},
     "output_type": "execute_result"
    }
   ],
   "source": [
    "li = tree.value.tolist()\n",
    "li[0][0] "
   ]
  },
  {
   "cell_type": "code",
   "execution_count": 15,
   "metadata": {},
   "outputs": [
    {
     "data": {
      "text/plain": [
       "[5.0, 44.0, 49.0]"
      ]
     },
     "execution_count": 15,
     "metadata": {},
     "output_type": "execute_result"
    }
   ],
   "source": [
    "li[2][0]\n"
   ]
  },
  {
   "cell_type": "code",
   "execution_count": 38,
   "metadata": {},
   "outputs": [
    {
     "data": {
      "application/vnd.jupyter.widget-view+json": {
       "model_id": "c8d74e8b6220452890dbf5147d0e3181",
       "version_major": 2,
       "version_minor": 0
      },
      "text/plain": [
       "Turtle()"
      ]
     },
     "metadata": {},
     "output_type": "display_data"
    }
   ],
   "source": [
    "from mobilechelonian import Turtle\n",
    "t = Turtle()\n",
    "\n",
    "def drawOutline():\n",
    "    # move to border\n",
    "    t.speed(10)\n",
    "    t.penup()\n",
    "    t.forward(180)\n",
    "    t.right(90)\n",
    "    t.forward(180)\n",
    "    t.right(90)\n",
    "    t.pendown()\n",
    "    \n",
    "    t.forward(360)\n",
    "    t.right(90)\n",
    "    t.forward(360)\n",
    "    t.right(90)\n",
    "    t.forward(360)\n",
    "    t.right(90)\n",
    "    t.forward(360) \n",
    "    t.right(180)\n",
    "drawOutline()\n",
    "\n",
    "\n",
    "\n",
    "def change():\n",
    "    \n",
    "    t.left(90)\n",
    "      \n",
    " \n",
    " \n",
    "\n",
    "\n",
    "# cut out a triangle and circle around until cut position is reached\n",
    "\n",
    "def slice(div,l,b):\n",
    "    \n",
    "    # move by slice position\n",
    "    t.penup()\n",
    "    t.forward(l/div)\n",
    "    t.pendown()\n",
    "    \n",
    "    \n",
    "    # cut\n",
    "    t.left(90)\n",
    "    t.forward(b)\n",
    "    \n",
    "  \n",
    "    # move by slice position\n",
    "    t.penup()\n",
    "    t.forward(l/div)\n",
    "    t.pendown()\n",
    "    \n",
    "    # move by triangle breadth\n",
    "    t.forward(b)\n",
    "    \n",
    "    # move up slice position\n",
    "    t.penup()\n",
    "    t.forward(l/div)\n",
    "    t.pendown()\n",
    "    \n",
    "    t.left(90)\n",
    "    t.forward(l/div)\n",
    "    t.left(90)\n",
    "    t.forward(b)\n",
    "    t.left(90)\n",
    "    t.forward(l/div)\n",
    "    return(l/div)\n",
    "     \n",
    "    \n",
    "# after slice, stay on same axis or change axis       \n",
    "val = slice(3,360,360)\n",
    "\n",
    "# move to first division\n",
    "def moveFromSecondToFirst(val):\n",
    "    t.left(180) \n",
    "    t.forward(val)\n",
    "    t.left(180) \n",
    "    \n",
    "\n",
    "def moveToXaxis(x):\n",
    "    y = False\n",
    "    if(x):\n",
    "        t.left(90)\n",
    "        y = True\n",
    "        return y\n",
    "    else:\n",
    "        return y\n",
    "    \n",
    "def moveToYaxis(y):\n",
    "    x = False \n",
    "    if(y):\n",
    "        t.right(90)\n",
    "        x = True\n",
    "        return x\n",
    "    else:\n",
    "        return x\n",
    "    \n",
    "    \n",
    " \n",
    "val2 = slice(6,val,360)\n",
    "\n",
    "\n",
    "\n",
    "# moving up the node back to parent\n",
    "moveFromSecondToFirst(val2)\n",
    "moveFromSecondToFirst(val) \n",
    "\n",
    "t.forward(val)\n",
    "\n",
    "    \n",
    "\n",
    " "
   ]
  },
  {
   "cell_type": "code",
   "execution_count": 21,
   "metadata": {},
   "outputs": [],
   "source": [
    "\n",
    "# start at root, 0 ,0 \n",
    "# divide the the box based on information\n",
    "# move to child one ,use the value at every cut\n",
    "\n",
    "\n",
    "# start at root 0,0 divide the box based on inputs\n",
    "# using individual divisions values stored, divide for each segment\n",
    "\n",
    "\n"
   ]
  },
  {
   "cell_type": "code",
   "execution_count": 24,
   "metadata": {},
   "outputs": [
    {
     "data": {
      "application/vnd.jupyter.widget-view+json": {
       "model_id": "92259ea0402a45b88255ae07bc0938d1",
       "version_major": 2,
       "version_minor": 0
      },
      "text/plain": [
       "Turtle()"
      ]
     },
     "metadata": {},
     "output_type": "display_data"
    }
   ],
   "source": [
    "# start at root 0,0\n",
    "# find the sum and get div for first value \n",
    "# remove first element\n",
    "# find the sum and get div for second value \n",
    "# repeat until one element left\n",
    "\n",
    "# move to child 1,0\n",
    "# for every child and parent, find div\n",
    "\n",
    "# move to first child 1,0  , move from last element to the first\n",
    "\n",
    " \n",
    "from mobilechelonian import Turtle\n",
    "t = Turtle()\n",
    "drawOutline()\n",
    "\n",
    "\n",
    "val = slice(9,360,360)  \n",
    "\n",
    " \n",
    "\n"
   ]
  },
  {
   "cell_type": "code",
   "execution_count": null,
   "metadata": {},
   "outputs": [],
   "source": []
  },
  {
   "cell_type": "code",
   "execution_count": null,
   "metadata": {},
   "outputs": [],
   "source": []
  }
 ],
 "metadata": {
  "kernelspec": {
   "display_name": "Python 2",
   "language": "python",
   "name": "python2"
  },
  "language_info": {
   "codemirror_mode": {
    "name": "ipython",
    "version": 2
   },
   "file_extension": ".py",
   "mimetype": "text/x-python",
   "name": "python",
   "nbconvert_exporter": "python",
   "pygments_lexer": "ipython2",
   "version": "2.7.15"
  }
 },
 "nbformat": 4,
 "nbformat_minor": 2
}
