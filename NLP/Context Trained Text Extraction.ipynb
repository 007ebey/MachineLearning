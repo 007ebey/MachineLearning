{
 "cells": [
  {
   "cell_type": "code",
   "execution_count": 42,
   "metadata": {},
   "outputs": [],
   "source": [
    "import nltk\n",
    "import pandas as pd\n",
    "import numpy as np\n",
    "from nltk.corpus import stopwords\n",
    "from nltk import word_tokenize\n",
    "from sklearn.feature_extraction.text import TfidfVectorizer\n",
    "from sklearn.decomposition import TruncatedSVD\n",
    "from sklearn.preprocessing import Normalizer "
   ]
  },
  {
   "cell_type": "markdown",
   "metadata": {},
   "source": [
    "### Training text for identifying lurking topics ( few IELTS passages)"
   ]
  },
  {
   "cell_type": "code",
   "execution_count": 1,
   "metadata": {},
   "outputs": [],
   "source": [
    "f = open(\"train.txt\",'r',encoding =\"utf-8\")\n",
    "text = f.read()"
   ]
  },
  {
   "cell_type": "markdown",
   "metadata": {},
   "source": [
    "### Text of interest ( IELTS passage under inspection )"
   ]
  },
  {
   "cell_type": "code",
   "execution_count": 44,
   "metadata": {},
   "outputs": [],
   "source": [
    "text = text + open(\"test.txt\",'r',encoding = \"utf8\").read()"
   ]
  },
  {
   "cell_type": "code",
   "execution_count": 45,
   "metadata": {},
   "outputs": [],
   "source": [
    "sents = nltk.sent_tokenize(text)"
   ]
  },
  {
   "cell_type": "code",
   "execution_count": 46,
   "metadata": {},
   "outputs": [],
   "source": [
    "vectorizer = TfidfVectorizer()"
   ]
  },
  {
   "cell_type": "markdown",
   "metadata": {},
   "source": [
    "### Identifying non obvious stop words"
   ]
  },
  {
   "cell_type": "code",
   "execution_count": 47,
   "metadata": {},
   "outputs": [],
   "source": [
    "vectorizer.stop_words = { x for x,y in nltk.FreqDist( nltk.word_tokenize(text)).most_common(250)  }"
   ]
  },
  {
   "cell_type": "code",
   "execution_count": 48,
   "metadata": {},
   "outputs": [
    {
     "name": "stderr",
     "output_type": "stream",
     "text": [
      "C:\\Users\\Pradeep_PC\\Anaconda3\\lib\\site-packages\\sklearn\\feature_extraction\\text.py:286: UserWarning: Your stop_words may be inconsistent with your preprocessing. Tokenizing the stop words generated tokens ['curie', 'datta', 'marie', 'pierre', 'poland', 'sorbonne', 'stone', 'warsaw'] not in stop_words.\n",
      "  sorted(inconsistent))\n"
     ]
    }
   ],
   "source": [
    "dtm = vectorizer.fit_transform(sents)"
   ]
  },
  {
   "cell_type": "code",
   "execution_count": 49,
   "metadata": {},
   "outputs": [],
   "source": [
    "lsa = TruncatedSVD(50,algorithm = 'arpack')"
   ]
  },
  {
   "cell_type": "code",
   "execution_count": 50,
   "metadata": {},
   "outputs": [],
   "source": [
    "dtm_lsa = lsa.fit_transform(dtm)"
   ]
  },
  {
   "cell_type": "code",
   "execution_count": 51,
   "metadata": {},
   "outputs": [],
   "source": [
    "test_input = open(\"test.txt\",'r',encoding = \"utf8\").read()"
   ]
  },
  {
   "cell_type": "code",
   "execution_count": 52,
   "metadata": {},
   "outputs": [],
   "source": [
    "test_sents = nltk.sent_tokenize(test_input)"
   ]
  },
  {
   "cell_type": "code",
   "execution_count": 53,
   "metadata": {},
   "outputs": [
    {
     "data": {
      "text/plain": [
       "37"
      ]
     },
     "execution_count": 53,
     "metadata": {},
     "output_type": "execute_result"
    }
   ],
   "source": [
    "len(test_sents)"
   ]
  },
  {
   "cell_type": "markdown",
   "metadata": {},
   "source": [
    "### Search text taken from  IELTS passage"
   ]
  },
  {
   "cell_type": "code",
   "execution_count": 54,
   "metadata": {},
   "outputs": [],
   "source": [
    "question = \"What did researchers identify as the ideal time to wake up in the morning?\"\n",
    "test_sents.append(question)"
   ]
  },
  {
   "cell_type": "code",
   "execution_count": 55,
   "metadata": {},
   "outputs": [],
   "source": [
    "dtms_ = vectorizer.transform(test_sents)"
   ]
  },
  {
   "cell_type": "code",
   "execution_count": 56,
   "metadata": {},
   "outputs": [],
   "source": [
    "dtm_lsa_ = lsa.transform(dtms_)"
   ]
  },
  {
   "cell_type": "code",
   "execution_count": 57,
   "metadata": {},
   "outputs": [],
   "source": [
    "similarity_ = np.asarray(np.asmatrix\n",
    "                         (dtm_lsa_)*np.asmatrix(dtm_lsa_).T )"
   ]
  },
  {
   "cell_type": "code",
   "execution_count": 58,
   "metadata": {},
   "outputs": [],
   "source": [
    "similarity_ = Normalizer().fit_transform(similarity_)"
   ]
  },
  {
   "cell_type": "code",
   "execution_count": 59,
   "metadata": {},
   "outputs": [],
   "source": [
    "answer = pd.DataFrame(pd.DataFrame(similarity_,index = test_sents,columns = test_sents).loc[:,question])"
   ]
  },
  {
   "cell_type": "code",
   "execution_count": 60,
   "metadata": {},
   "outputs": [],
   "source": [
    "answer = answer.sort_values (by = [question],ascending = False).loc[answer[question]\n",
    "                                        > 0.05*answer[question].max() ]"
   ]
  },
  {
   "cell_type": "markdown",
   "metadata": {},
   "source": [
    " "
   ]
  },
  {
   "cell_type": "code",
   "execution_count": 36,
   "metadata": {},
   "outputs": [],
   "source": [
    " answer1 = answer"
   ]
  },
  {
   "cell_type": "markdown",
   "metadata": {},
   "source": [
    "###  Search results from my model"
   ]
  },
  {
   "cell_type": "markdown",
   "metadata": {},
   "source": [
    "#### Extracting relevant text pertaining to the answer for the questions of IELTS taken from  "
   ]
  },
  {
   "cell_type": "markdown",
   "metadata": {},
   "source": [
    "[IELTS website](https://takeielts.britishcouncil.org/prepare-test/practice-tests/reading-practice-test-1-academic/reading-passage-1)"
   ]
  },
  {
   "cell_type": "markdown",
   "metadata": {},
   "source": [
    "####  1) What did researchers identify as the ideal time to wake up in the morning?\n",
    "\n",
    "######  A) 6.04\n",
    "\n",
    "######  B) 7.00\n",
    "\n",
    "######  C) 7.22\n",
    "\n",
    "###### D) 7.30"
   ]
  },
  {
   "cell_type": "code",
   "execution_count": 37,
   "metadata": {},
   "outputs": [
    {
     "data": {
      "text/html": [
       "<div>\n",
       "<style scoped>\n",
       "    .dataframe tbody tr th:only-of-type {\n",
       "        vertical-align: middle;\n",
       "    }\n",
       "\n",
       "    .dataframe tbody tr th {\n",
       "        vertical-align: top;\n",
       "    }\n",
       "\n",
       "    .dataframe thead th {\n",
       "        text-align: right;\n",
       "    }\n",
       "</style>\n",
       "<table border=\"1\" class=\"dataframe\">\n",
       "  <thead>\n",
       "    <tr style=\"text-align: right;\">\n",
       "      <th></th>\n",
       "      <th>What did researchers identify as the ideal time to wake up in the morning?</th>\n",
       "    </tr>\n",
       "  </thead>\n",
       "  <tbody>\n",
       "    <tr>\n",
       "      <th>What did researchers identify as the ideal time to wake up in the morning?</th>\n",
       "      <td>0.295685</td>\n",
       "    </tr>\n",
       "    <tr>\n",
       "      <th>Morning is also great for breaking out the vitamins.</th>\n",
       "      <td>0.216872</td>\n",
       "    </tr>\n",
       "    <tr>\n",
       "      <th>‘Night people’, for example, often describe how they find it very hard to operate during the morning, but become alert and focused by evening.</th>\n",
       "      <td>0.197090</td>\n",
       "    </tr>\n",
       "    <tr>\n",
       "      <th>Once you’re up and ready to go, what then?</th>\n",
       "      <td>0.151168</td>\n",
       "    </tr>\n",
       "    <tr>\n",
       "      <th>It is essential that, by the time you are ready to sleep, your body is rid of all traces.</th>\n",
       "      <td>0.126948</td>\n",
       "    </tr>\n",
       "    <tr>\n",
       "      <th>The average urban resident, for example, rouses at the eye-blearing time of 6.04 a.m., which researchers believe to be far too early.</th>\n",
       "      <td>0.072402</td>\n",
       "    </tr>\n",
       "    <tr>\n",
       "      <th>The optimum moment has been whittled down to 7.22 a.m.; muscle aches, headaches and moodiness were reported to be lowest by participants in the study who awoke then.</th>\n",
       "      <td>0.065938</td>\n",
       "    </tr>\n",
       "  </tbody>\n",
       "</table>\n",
       "</div>"
      ],
      "text/plain": [
       "                                                    What did researchers identify as the ideal time to wake up in the morning?\n",
       "What did researchers identify as the ideal time...                                           0.295685                         \n",
       "Morning is also great for breaking out the vita...                                           0.216872                         \n",
       "‘Night people’, for example, often describe how...                                           0.197090                         \n",
       "Once you’re up and ready to go, what then?                                                   0.151168                         \n",
       "It is essential that, by the time you are ready...                                           0.126948                         \n",
       "The average urban resident, for example, rouses...                                           0.072402                         \n",
       "The optimum moment has been whittled down to 7....                                           0.065938                         "
      ]
     },
     "execution_count": 37,
     "metadata": {},
     "output_type": "execute_result"
    }
   ],
   "source": [
    "answer1"
   ]
  },
  {
   "cell_type": "markdown",
   "metadata": {},
   "source": [
    "### 2) In order to lose weight, we should\n",
    "\n",
    "##### A) avoid eating breakfast\n",
    "\n",
    "##### B) eat a low carbohydrate breakfast\n",
    "\n",
    "##### C) exercise before breakfast\n",
    "\n",
    "##### D) exercise after breakfast"
   ]
  },
  {
   "cell_type": "code",
   "execution_count": 61,
   "metadata": {},
   "outputs": [],
   "source": [
    "answer2 = answer"
   ]
  },
  {
   "cell_type": "code",
   "execution_count": 62,
   "metadata": {},
   "outputs": [
    {
     "data": {
      "text/html": [
       "<div>\n",
       "<style scoped>\n",
       "    .dataframe tbody tr th:only-of-type {\n",
       "        vertical-align: middle;\n",
       "    }\n",
       "\n",
       "    .dataframe tbody tr th {\n",
       "        vertical-align: top;\n",
       "    }\n",
       "\n",
       "    .dataframe thead th {\n",
       "        text-align: right;\n",
       "    }\n",
       "</style>\n",
       "<table border=\"1\" class=\"dataframe\">\n",
       "  <thead>\n",
       "    <tr style=\"text-align: right;\">\n",
       "      <th></th>\n",
       "      <th>In order to lose weight, we should</th>\n",
       "    </tr>\n",
       "  </thead>\n",
       "  <tbody>\n",
       "    <tr>\n",
       "      <th>In order to lose weight, we should</th>\n",
       "      <td>0.596370</td>\n",
       "    </tr>\n",
       "    <tr>\n",
       "      <th>The recommended course of action is to follow an intense workout with a carbohydrate-rich breakfast; the other way round and weight loss results are not as pronounced.</th>\n",
       "      <td>0.142004</td>\n",
       "    </tr>\n",
       "    <tr>\n",
       "      <th>Evenings are important for winding down before sleep; however, dietician Geraldine Georgeou warns that an after-five carbohydrate-fast is more cultural myth than chronobiological demand.</th>\n",
       "      <td>0.123844</td>\n",
       "    </tr>\n",
       "  </tbody>\n",
       "</table>\n",
       "</div>"
      ],
      "text/plain": [
       "                                                    In order to lose weight, we should\n",
       "In order to lose weight, we should                                            0.596370\n",
       "The recommended course of action is to follow a...                            0.142004\n",
       "Evenings are important for winding down before ...                            0.123844"
      ]
     },
     "execution_count": 62,
     "metadata": {},
     "output_type": "execute_result"
    }
   ],
   "source": [
    "answer2"
   ]
  },
  {
   "cell_type": "markdown",
   "metadata": {},
   "source": [
    "### 3) The best time to stop drinking coffee is\n",
    "\n",
    "##### A) mid-afternoon\n",
    "\n",
    "##### B) 10 p.m.\n",
    "\n",
    "##### C) only when feeling anxious\n",
    "\n",
    "##### D) after dinner"
   ]
  },
  {
   "cell_type": "code",
   "execution_count": 86,
   "metadata": {},
   "outputs": [],
   "source": [
    "answer3 = answer"
   ]
  },
  {
   "cell_type": "code",
   "execution_count": 87,
   "metadata": {},
   "outputs": [
    {
     "data": {
      "text/html": [
       "<div>\n",
       "<style scoped>\n",
       "    .dataframe tbody tr th:only-of-type {\n",
       "        vertical-align: middle;\n",
       "    }\n",
       "\n",
       "    .dataframe tbody tr th {\n",
       "        vertical-align: top;\n",
       "    }\n",
       "\n",
       "    .dataframe thead th {\n",
       "        text-align: right;\n",
       "    }\n",
       "</style>\n",
       "<table border=\"1\" class=\"dataframe\">\n",
       "  <thead>\n",
       "    <tr style=\"text-align: right;\">\n",
       "      <th></th>\n",
       "      <th>The best time to stop drinking coffee is</th>\n",
       "    </tr>\n",
       "  </thead>\n",
       "  <tbody>\n",
       "    <tr>\n",
       "      <th>The best time to stop drinking coffee is</th>\n",
       "      <td>0.173887</td>\n",
       "    </tr>\n",
       "    <tr>\n",
       "      <th>For improved absorption, Stone suggests pairing supplements with a food in which they are soluble and steering clear of caffeinated beverages.</th>\n",
       "      <td>0.147745</td>\n",
       "    </tr>\n",
       "    <tr>\n",
       "      <th>Finally, Stone warns to take care with storage; high potency is best for absorption, and warmth and humidity are known to deplete the potency of a supplement.</th>\n",
       "      <td>0.145356</td>\n",
       "    </tr>\n",
       "    <tr>\n",
       "      <th>Supplement absorption by the body is not temporal-dependent, but naturopath Pam Stone notes that the extra boost at breakfast helps us get energised for the day ahead.</th>\n",
       "      <td>0.136347</td>\n",
       "    </tr>\n",
       "    <tr>\n",
       "      <th>After-dinner espressos are becoming more of a tradition – we have the Italians to thank for that – but to prepare for a good night’s sleep we are better off putting the brakes on caffeine consumption as early as 3 p.m. With a seven hour half-life, a cup of coffee containing 90 mg of caffeine taken at this hour could still leave 45 mg of caffeine in your nervous system at ten o’clock that evening.</th>\n",
       "      <td>0.097996</td>\n",
       "    </tr>\n",
       "    <tr>\n",
       "      <th>Overloading your gut could lead to indigestion, though.</th>\n",
       "      <td>0.081734</td>\n",
       "    </tr>\n",
       "  </tbody>\n",
       "</table>\n",
       "</div>"
      ],
      "text/plain": [
       "                                                    The best time to stop drinking coffee is\n",
       "The best time to stop drinking coffee is                                            0.173887\n",
       "For improved absorption, Stone suggests pairing...                                  0.147745\n",
       "Finally, Stone warns to take care with storage;...                                  0.145356\n",
       "Supplement absorption by the body is not tempor...                                  0.136347\n",
       "After-dinner espressos are becoming more of a t...                                  0.097996\n",
       "Overloading your gut could lead to indigestion,...                                  0.081734"
      ]
     },
     "execution_count": 87,
     "metadata": {},
     "output_type": "execute_result"
    }
   ],
   "source": [
    "answer3"
   ]
  },
  {
   "cell_type": "markdown",
   "metadata": {},
   "source": [
    "#### Sources:"
   ]
  },
  {
   "cell_type": "markdown",
   "metadata": {},
   "source": [
    "https://takeielts.britishcouncil.org/prepare-test/practice-tests/reading-practice-test-1-academic/reading-passage-1"
   ]
  },
  {
   "cell_type": "markdown",
   "metadata": {},
   "source": [
    "https://opensourceconnections.com/blog/2016/03/29/semantic-search-with-latent-semantic-analysis/"
   ]
  },
  {
   "cell_type": "markdown",
   "metadata": {},
   "source": [
    "https://www.datascienceassn.org/sites/default/files/users/user1/lsa_presentation_final.pdf"
   ]
  },
  {
   "cell_type": "code",
   "execution_count": null,
   "metadata": {},
   "outputs": [],
   "source": [
    " \n",
    "    "
   ]
  },
  {
   "cell_type": "code",
   "execution_count": null,
   "metadata": {},
   "outputs": [],
   "source": []
  },
  {
   "cell_type": "code",
   "execution_count": null,
   "metadata": {},
   "outputs": [],
   "source": []
  }
 ],
 "metadata": {
  "kernelspec": {
   "display_name": "Python 3",
   "language": "python",
   "name": "python3"
  },
  "language_info": {
   "codemirror_mode": {
    "name": "ipython",
    "version": 3
   },
   "file_extension": ".py",
   "mimetype": "text/x-python",
   "name": "python",
   "nbconvert_exporter": "python",
   "pygments_lexer": "ipython3",
   "version": "3.5.6"
  }
 },
 "nbformat": 4,
 "nbformat_minor": 2
}
